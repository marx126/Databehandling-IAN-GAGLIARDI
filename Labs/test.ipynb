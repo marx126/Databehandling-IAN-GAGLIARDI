{
 "cells": [
  {
   "cell_type": "code",
   "execution_count": 85,
   "id": "67d915fc",
   "metadata": {},
   "outputs": [
    {
     "data": {
      "application/vnd.plotly.v1+json": {
       "config": {
        "plotlyServerURL": "https://plot.ly"
       },
       "data": [
        {
         "hovertemplate": "x=%{x}<br>y=%{y}<extra></extra>",
         "legendgroup": "",
         "marker": {
          "color": "#636efa",
          "symbol": "circle"
         },
         "mode": "markers",
         "name": "",
         "orientation": "v",
         "showlegend": false,
         "type": "scatter",
         "x": {
          "bdata": "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",
          "dtype": "f8"
         },
         "xaxis": "x",
         "y": {
          "bdata": "+ci2q2H1/7/EZrS7+n8EQF3zrB5VF7U/cEyVLNF7A0D34E3HZ53wv3xh0jLRQvy/HYB9lclaCUCvUHxv46HfPzQ90l6J2g5AyywY8qILBEAUllfZBbfzP3Kk+eX8lgTATgPF+LsMEUB9wxJtM+39P2eOpTGlLwHAFLZ9SFaBCEC+TtJscNrGv8DwB22vPQXAsjmVFjpy+r8GidN9SDkJwJYvZLsIXAHAcvtFvBI4AcCoGRg8hVAHwKGNjuWo2f0/Hoa0HMkT7j+TkVXP51oHwAyx6oxqZA9AiV7ocfLA/b+6w2ZHzRvhv6yDnKbQZv+/9IdG+ympAUC5OVRPY44AwDL8Xlu97QbAZ5JIb9pdCUCh/cMozykGQFzdbG3HluU/LP0CG2OpA0ChuomMzSH7v4jK2j0GjwFArNaLTVt39795wjdKTEgBQAilXcFcfuy/kNPiXGLVCEClWcQKhcAFQDLV2enpTew/0hCZnNniBUARjKpmS84DwEeYDsTEDwXAIBtY+mm89L/oXoPRtazTP0oFjUABrAxAZ+AlNoizAsAbMyCKAhkDQEB1ZmApdvE/pKAUd+bXCkDikIvaJvQBQFYcFwia6+S/aq+Acv/KAMBKPHr2opj3P/GMKbQoMfi/HXTjBwFgA8Dw75O4pyMDQCmiVgta1QPASY2eakboBkC4ryieC///v+Afs+Y3WAPAzjtP3pJ0A0Ci0B8a7TQFQOC8glPI0QFAH3lOqCeu+b/P7aR/sBQQQMINOdTZeAhAoF/SbkF1C8AyKo6L0e33v42adnvonfq/MTJ4NKKpAMDYz+Tzp1bWP+KEbATojwLA7aN4+AfxB0CSzW45IXoHQHY3v0hTy/c/oE1BvUEb9r9IghyONIUDQLg6DqkP4PM/eOjci4uB8D9mVRTrz7f1P5nyKt2JwQLAGqE/0Zkz/T+qooN6zn3mv6h6/WevFwlAnzf7hty89b8mLhrZnfL3vx/VkjTrAd0/FwK0FfbgBsBSRDpk/ZDyvwAXVbJMafo/frRMrbMECUAXjc9vxqQKwGQ2gxPCINw/4V8U7/ZH77/QgMW0IRwGwNsTVuW3gNy/jhuz7C2bB0Csq8Ia6kkAQIszb4f5fe6/qdswoppDBsA1DXbz/OgHwIBAnqAeHgnALvAWH4zh87+y/Iad/Wn1P4S0T5DnFvU/ghAjN1CM9D9xttl/kpoDQDcMSQW2BP0/5g9LoRbaAkB8QmW0Ffv2P4gus3s6MMS/2ylgwoJo+7/96bo+67kIQBpVkLr3sfm/xcRXRQX79z+0KKJhG8/1P64ypWazyAVAwIrWb7kkBUDqHy5jjU7jP8vZEwJJRf8/NtfDp+Nd/b+dcQe1HtoCQOAoJLC0ueY/uCNgeMMN8r9oilN37Dr6PyJs/A1EugbACQm/j3LBAkDXAEJ9jLv5v5lDHB/Y3fk/HqZK42AmDsCTGwc0s/75v/+2WKFWgghAQTnr+0GcBMAfNZYuxab7P7xWFwdtRgjAD+vqxohl/z+CjrXrArULQFlrV/QLIvU/aQ6M8rjmA8B6RY0gszT9v1yFFpkYKfc/aIk9xF37678U2TaAZxT/vzb/q8/CdeE/gO37DxJ39D8VwljgQ/X0P7i7A54rVwfAEpqmyWI0AEAIsDN7bL7rPygog40gjfC/yLN1FNMk87+e13GPuNYFwHfG72jiwQ/A2KGn0b+NCMDIu64T/vMBwKz+hbAJRQVAsEqlu/05/b/HKoc8Zeb6v+/R6EHR7PK/DMbeXP/+5L8OYsH1YAwMQBEZEuWLzBFArGUKr4hf9r8FcuUkEpIDQEDJFi1r1r4/16nuFKu61j8sgFNWX0P1P2TJKqixKfo/2yl4LmHkAsA8VH6fkc7hv8d5RBEAFva/uYucHOm7A0AwnjvWv+j0P+UYFFRyEf6/k/RyL3QkC8D+/dLeY6nwv4Dds7/Uv7m/CsE6RG25B8CSrO5kyc/wvwrcyArTvQFAFFaBzYpLAEAi6ziOxNgJwNTkB6meyQHAB+SfpD3n9z/My4PY2HgCwHBs/Vo1CvS/YPKsI1G0AcDWwEd5wa8EwHedCtPizwhApGgtr0fS+r8uykFVxWfxPzuyUT/3VgvAkaP2I6djAsDRQaG5AgvvP8ywOV84fAhAayzk3BrzCEAQxDHvI30CwNWyMPK2rgVA1uAFQ2g/EcCc5kG9kqn7P/y2QMDubQnAKPS6TH3lAkCFrxQDAOAEwMgR5IN0VPk/+CtAqjG/BUA4LelMp0EBwHJht7wMKAPAaSimad5pAsDGdYdqf5D/P6IXXq/e4gHANf7NoTp2CUA0w1HIiTf6Pw4plahPpgnAYvT2dDa/9r9z15Qxdrz8P5iZV1S8kv4/L87IhU+mBUC7CMLu6DEIQM7wChHJtQJA88c20oQq3780TApN8O8GwKx70SyaKQPAHFsDRSw44D/InqH4cu4AQLD91nBJuOu/vId07gU94j+ExKARXNwDQEg8jT0+Lf2/4oM6pNNO8r+oF+0r6K30v2sOwp6tpgLAOxWphIkf+r804JnBeMsFwLM8nUqXNvs/oN5BwGV58b/l9GVQPSqIPwisQhw7wNs/bsg3i/qxBMAmsmwYzj/jP9aOgQQxb+e/ftFoXlAhwb9iY3wIvG8OQI2T6xRjSP6/Oqrm/it5A0AduO4sIJELwNxLizL7cfW/fjcLvA+R879LAYLU3JD8PzsrP52lG/8/eULLklqZB8A7zgCdowQPwOgoF7f/fNq/x6pRlhd39z8aYskQcekEwOKeyyz2cQPAGQ4fx29C8b+PVVXsVUzQvwfq1mK54QTALk9rl0hsBsCm6NoLNJfvP0qD3RCPnwXAOi0o9Z9ACkD4t5Nb/igEwBo9UJxQq/s/5PCfCHz5AcCZTSL0xVr6Pyz4kqd/n/4/HPKsK4X9AUAt/e97C5QEwI6wLtEK6AhA1oGi/Jmz+r+N6ELeD6gCwBLOTneRSv8/P8RBfOHAA0BIhNKQurXov2RMDqrkLvW/JLhF7BU/A0Ccz/HZY/gGwApj80TEMfa/ECqPbwolCMB+7EABn6rwP3nyQZyiqgBAbJxXf0Lp7D9kI4b5TDcLQCI0ZNVPKQVAThPWN7+NAsAcKIM0wskLwBQBVmcUPw5Ak7Tp+VAB7T8aXSF9yb0FwAfXn59khfK/N5QLB6yKCMAJS8btOUkEwOO9+gPUe/0/xdAAmTx57b+emG1rtX3oP2bW2hcJa/2/9vKi2b9OCkDNHUa20pz+P1vs4pYG2QHAn15SrmIY+L8ysKWPf7z8v+IkMp/KFvM/kI6wGga18z93rWt1UvsMwHO6lDmLfwbAvtuAP30a8L9ek3woyyrIvzvHChstsALAbAvRnDXI4D/ssQk/IRkOQAbUhjXv9Pk/aNqumNKmDUD7OGo3RyXcP/fVwf8BOAbAsCZUpIJ6BUAW2sGoHzP8P+6Qo/x6w/g/cKsTFnKL3r8B+/Jkwo0AQAC0P3SbWsK/eriiHBeG5L/ES5z+nmL+vzDFrR+ZGwTADuFNnbwl/j+yGbolL8T4v2KwAyCgX+c/iZD+cQGA+D8wjwF1iEL4P5SnkLU39uC/LD1pg+0eC8B2jcnC7JsQQBWQcfUtSgPAlvv/oPAPCsAXBDVsQpsGwIp9uQGoXAjACE8THSv75T82HNOwy3bnP5U9tQ+SsgHAmG3PNHIX9D8QjaF21FgQQCEg7JF4SwvACddUQAngBMBuyuABVyoCQE7VnYErGcc/1Mp2Vj3+CkArz41mURkHQDYUg45/TgXAigm2J+lFA0BhMxZYcFcAwNnzu/4fHQFALZ3MeFG1A0CaWOx/hXQGwIW8PWkF+w/Abh9mSyWVB8B2D8U/XTf9PxYVd0FHI/S/gxjXxcALCsDEhMu6CSf3vyLpPGe3p/W/tk7Pas6b8j8yLBlyfiL3P4dXgnK9KO2/PPPMxSTG/z9vGUkpIakEQN+YpU1Ns/2/yq41ljWO+b+gPGfJx0oAwFD3zqN33BFAVN/a/qgZCMB57S4kpMQJwM/p2ehflA5AdNeUzVSiA0DIqiTotHjvP5ip+yDNqQFAAF79szqL/z8o2XJWznwOQGABLUoqNBFAayQodO0VC0BwyID8DqPrP7yLrRMUGATAerZZLsxI6D8bfM3vu+EGQCoRqtTSWgtAZDCIhOpPAkA3B7XclSgIQOHU8MqdAv2/BrAiW6gcDED1hE+ntZABwL5qbaFxMgdAUEvEw8Bw+L8VHLCJJnXyv0Y8XP4w9APAqC0BsphA6z9IPtRVWwnpP4qFz8N7cvy/h7kd97Zx3b/xAl7uI5T4v/opc3SVmghAsqVpNk+WCUDJ3MKo9fYEQOrpfx/1SgXAbaHvtWSjAkC42MfIuUX3P83WC9CdCwVAGX3dgUXcB0C260WpdeUDQEEKs3yBEgLAq/0VKwUFBEARIEQ36B4LQIaFnoCa2f6/KGe2i1Y6A0AtH09d9LEEwJFgCxrjMgzAn9BOQk9+87/Tc7kEf9Pzv5ivWpb+3gFAHj+K3xz6A8A/f1BTG76wP7s4Tq0vLw7ArmwQ6UVfDcCOdDAeXnsAwPuaHZZOUwHAkt6oO78TCcBT980c8iffP2NHLZReTNE/9tEJh+oBBUBO0i2nAoniP6l4QGYjywnAjqFyA6bY8T9OA4OEMYgFQBRQDXzdfgBAruSv1Rkm+r8G47JtImPzP/PIvsDgYg/A+y4Un1c6sL+Eh6HPpUPnP4eov9dohQvA2T/KhjJvCUDcj4XraTIQwDbpwKLt0v+/PLSMWf1mA8DVuDNm8NkDQAt9dcU8pQbAOXp1lA5CB8AgfXe85TkEwNbVuhuUKP8/CiFlURQu+78f4EEvwtnVP6ZNDIV9uwjAeLCBkPwv97+aCQXC/1AMQMAyp4+Vfew/VKOWFluyD8Atw6P6lZcJQL7B9nGNP/U/a0GwVXuwBUA6YcOwyQf3v7ECc/TvdAhA+eUMfI0/oL+5BnEfD0r4v9aXVitcVAJAMZnPMAanAUA4ya/434sGwDUNDiOmsgbA4LnAXuLL+z/S6kyZBmn3P6SI8BrzQAFAsxiEtBqzDECZ8TMqS5oBwFgFTdXWBgJA/6VlpuAS9L+A6gJXujDsP7Qz9uhwMNM/6jknRSAQ/7/yrj3dTQoBQCjPvIizswjA3I/DE7uPBMARMgqalbYKQLCFpBgxr9A/1zk3sYb7CcC9JI4bqRUBQMivAoVyAvO/SIMn7/mhAUBwbAkBlzDiv7+UC2Myo/a/TN8nPTRc7L+TAug+hZj/v3N5WcRM1QFAtMUm9RYhD0DwMGpT0h/5P/SPbKvODAZA7tItlSL7vL+5lHCDZpL6P6RivFAXWdW/DMLF0XX/AMAQL2PWom4NQAhpEcxT3AJASpM9n5WJ97/U1xbytT//Pw3A6L+LIPg/akXaUaJ697/yMQhJlaHlP2RdiiR+8Pe/Bpvt3lNJ9b/qNfjKDjX7Py8ZevJbigPAflaRanyU5L9zmLeqa1EAQMZBzkFdegvAv/jz+vGsAMBOaDWRYCMEQNC7p2NhEQbA4an/FAzaA0BGVSlnKBgPQNDXdagy1QHAxp00Vk+hC0DOCUUBlXMAQO7f3eXrbghATen5CQFk/78rRlx6WLL8v0uhqMlFDwdA8ll+aUweDkBnIFsdKE/+vwrggBqzIgTALs8xFQ/E878SbQcXuP4DQHI5O12D5gfADBA3dNJV+78JOWUpWw4BQN76exoglfi/Ethx4rupCcDyfovbQj77v5EDmjbuygdAuAgbemZP+T934u/kLgf3P7Wy4PHvQQVAyTnPGP+p9z+c205FSu0JwPhgkkpY3v4/HpZ2D52m878SUhiglu0EQCDw+x2mNN6/SPHWjev/AkAIuGBLceIQwJZlYHAsme6/UwtkwHf5/r80pnl+oFXXP035rYrT7ApADafR/adyA8ATatDNp5IBQHuc/y8plv4/ALyoWOkS9D/iAwH3VpzuP1+ZI+jghA7AZn6me6Lg5j/UPmbf7v0GwAzLbIGFqvc/IS8LsPZq+D9UdHQbpnH8v1sBai43JgdAgSpaUgMfAcDe5amvabEQQOCEYqyzL/A/vSxU/m9yDkAoGzZysuDwvzVVxNk4BPS/zcb9DdeZC0Arn/WfhJMJQKjCr6yS5/y/N+ezN8zeAUCpvKFaJQYEwK4ZcwmHaP+/MRCwo05/BcB9nAzUCiH0v+AQfVVX1eq//PJWGer0AcBtNwFec/b6P6CySZw/MPy/0RIKqQTQBMDj+4d3rfv7vxGPBybiZPa/GAIsql2XBEDeDaCazJESQPi3UcPgYAvAEZ80vF7R+D/87wzmICkDwFa2ON89hgDAAfh4K9oW/L9pq7x8bQT2vz9rA23fkPW/4Q2BEvQ8/z8IoUhTrwYGQBiZKnLrEOU/",
          "dtype": "f8"
         },
         "yaxis": "y"
        },
        {
         "hovertemplate": "<b>OLS trendline</b><br>y = 0.784113 * x + -0.0094921<br>R<sup>2</sup>=0.661640<br><br>x=%{x}<br>y=%{y} <b>(trend)</b><extra></extra>",
         "legendgroup": "",
         "line": {
          "color": "red"
         },
         "marker": {
          "color": "#636efa",
          "symbol": "circle"
         },
         "mode": "lines",
         "name": "",
         "showlegend": false,
         "type": "scatter",
         "x": {
          "bdata": "kf8moLJnFcAg7fFMQusSwKjHp52aUxLA5FZaXILvEMBYa8Jhs7UQwNxLSfWtlxDAD/d30WKKEMAsGpMzdh0QwIPlR2+p2A/A6uyLZumtDsC9OlWOx5UOwGdeAafOgQ7AwvcF1jg8DsBd9lCmfOYNwDzzntlnvQ3APMRWNUi7DcBzW+f3qqINwM+8sOgJSQ3A5piRVCUnDcBj2+Ye8wgNwH4n7ytkAA3Aqv+jtGy1DMDk1mwES7UMwCkgWez0dgzA4w1bk/UzDMDM30rgixEMwPQXlTK/5gvAYKjsr2eBC8BwdI4bHnELwMbcrmLVUAvAZtezAZL3CsDNXCQYjsYKwIb3wq58ewrAFj/VzhFpCsCFYknrl1gKwGz1+8yDFgrA+bGy1A27CcAgHRrEd3IJwNRlekLEawnAt3b7xOBgCcDoWUpkjy0JwJ4j5uGO+wjAX3hahZrtCMB7+CP95c0IwKIXcwQMxAjAjGo842i7CMB2k2GVba0IwFUop3hxmQjA0zr9M6JLCMDF893FQjwIwN87d87pJAjAd/sRtjsRCMBG+dhrAf8HwFH2Codr8wfAgAal0oviB8CO9xsVaMMHwPL5AHeDpwfA2rTjwweZB8A2QFhb/5cHwMQj+NAPgwfAwclN9OV7B8De+Xz3L3UHwBerL/f+bAfAdBeQLBNZB8DkPfzKXDgHwBkHbfthJQfANy+EqgYQB8DgQvJLb/wGwIwRKtP78wbA9uOuTEnuBsCM//4jErkGwBi3Jl2noAbA/E/E1DiaBsD/jEaxFX8GwGmF/F1RegbAYbAxe/hRBsA0if7CnUsGwK1Hhl1VLgbAzGfNYZ4sBsCsYH+HPRgGwN6WcsXLFQbAeOWWFXYNBsBL+n48k7EFwNbJY1ZjrwXA0B6stICeBcAsZ7iMTJgFwJ34pPeBfgXAiNXzXSdPBcBrOYcCLTwFwC1N0BC/HwXAVmXfYj8fBcCesQOZOh4FwLQjOPCt/QTAITiixeXHBMCTQLn2TcMEwKyHmfugtgTALBSrzvetBMDrhuDky6cEwOPUQmn3pQTAsq6Dd8OiBMBPnuwDXJYEwLzQWA+rkATAAyxZFg2OBMA1+hybA3sEwCTndhy+cwTAaFwDTjFvBMBSq025fWYEwIQPhkdRBATAYkHXySifA8CczM2P82YDwOxI9PuVFAPAvT293vsJA8DNi05zBgkDwO7W7xRM/wLAOnCGIYrmAsCdO3GYKN8CwH/0fLnV1wLAvFoKRqXKAsBF9Ql808ACwMNCa4nuqgLArWHFAyujAsCs/5pSF58CwLxQq62DiwLAT5O6OTxrAsAd0tvXlysCwI0QrsgiGALAgWyUVkHnAcBsDMqvIM4BwDcS4IvbywHAnz6z7VPHAcCNUhpSBcABwJPz0Wl6vAHAl6xXLi9/AcAB1P24wXQBwHNphYacaAHAuu0blKVhAcBGD6fXpioBwKnX8aReKAHA8o+IIhYMAcCUxEymOQgBwLqMIeUxBwHAZSvrHOz8AMAxWhuEXPoAwIs44qOb8QDAxBaMwc7WAMA3FZ54itYAwB5EsfGmxgDASF0SJY+7AMCxli1KFa8AwMNvROnygwDANxtrX+h9AMBZ8COMEWoAwH4OJbTtZQDA4hH2b6JdAMAz8d5z+1YAwJuu0khTUgDAs6NRXLZOAMB814FCCEYAwJ+7m2fUQgDACJKJsfEvAMBwHVryAS8AwI9GIptaJQDAGZQI3KEaAMCHefcVdxoAwP+IDUY9GQDACHG68dgVAMD6DUSqMRUAwJrV0suX8f+/fBdoP9TV/7+Mz1v/Nf3+v4BnDcWi2f6/dewBJDaT/r+LCMsBDmv+v57hU8yhVf6//3meXK0s/r83j+RU4h7+vwFb0JZ7/f2/kxZ1h3vj/b9yjvBKLdf9vwoVp5GKwP2/21aVM6Kj/b9LGPqTvJr9v82Ex38Umv2/obDN0sRu/b/kVUUHPFX9vyEjAwieQ/2/CspPZqQf/b84JiaZIhL9v7opjr6mBf2/MM0DJhXJ/L//h0FstJj8v7SfDbAck/y/WYmCTcaS/L9INoEpd4f8v6Ai5Xm0dfy/fa7R3GZx/L+yeJ5PvVv8v5PtqCYUWPy/Cif2PrpK/L9g5eh3GUP8vw7LYn05DPy/QBLvHhAJ/L9eu/+ZSPr7v7LM3oBM+fu/Z9nMPPnk+79uKGa0WNL7v1B5PYxtnfu/SlRzT+Jy+7+4Te9YMSf7v/16lfWsqPq/d3qcvi0w+r9GkTicqBj6v6Op/tEE0Pm/BFh7ns2++b8mFqfRIa75v4LLWb35hPm/weuft+yE+b8dpMkRUXP5v4f//PWvaPm/OhMSantI+b+tUSstpgH5v+eTmEUxoPi/PEXfkPuI+L/NLo5g34b4vx0ylBjLXvi/ykz55e7u979ekXhMKsb3v3K/W5jTv/e/Qhtie6+i978kOUqi4or3vzR416AZb/e/jsYWtKBl9794AlfXR9n2v/msBWWjx/a/+RMK77q39r+ZI90TyV/2v+OmBAfN8fW//rqAOKXN9b/as74+fhr1v+uKg0h0wvS/ltSfphPB9L/qlvO6ZL70v06gQM5mm/S/pl6ZgWqZ9L+7KSGWp430v9YcxJJQffS/UuGcJoF59L/WcPuqkGP0vxzsHBCWCfS/tlQp527S878qgEPgiM3zv45qYYXMXfO/eXJFqxId878u9NnP7/Dyv9Vkw7ufjfK/ZHzAAfh+8r9MVptFkljyv1iL3TV4KPK/TYsM38io8b/u+DMBlkPxv8vbGuDLKPG/RhZk2EDT8L9ArtPRYW7wv8sMo5Ed8+6/4YZ3L+B17r9C2y2v53Huv3Ut5Yd7TO6/fwXcO6Ym7r8MtpdFUcjtv9EYD4Mlx+2/ALZrisYU7b+iszt4lfrqv9DYfDp9ouq/DMGGOqO+6b8cY0LTbaHmv5aGLY81ZuW/rvwoAFoV5b8C0RN5hp7kvxYlrkQ2OuS/GpCcn89x47/AlTx/xsfiv/743QOwx+K/PhSSQBXi4b/ke2Xqn0/hv3QD0Wc1/OC/zOjJYXjE4L8bviS+AM/ev+Bioy3QkN6/UCaGxxbD3b/4Aw2IHBDbv9h6kPIF7Ni/YPZ9qAkN1r8Yz73jx0LPvzWdV73wpcy/eAWH6V2Ywr82tMhnkTepv9Vo5yRZ5Yg/7/F1mw+Wlz94nnmMib6cP/XsFqMeYaE/dsyL1QIcpj9gdksM9220PxC/Wn1AMso/oEC8SVs50T8EHzL8rzPVP+g6A+fVsNo/FBQTRua42j+S38m5UIvgPzyy9L7J1eA/dM9IvDa14T9AqsjgmbXhP3jUho4EtOI/ds0Def0u5T8uTSDByHrmPwRtzAq+Dec/4stvpLxh5z/aKrmxLQHoPxSBNffIYOg/LnlSpGF/6D8OQbPfFhfqP8S1oaPCPeo/EAAYvteL6j92/irK3YzqP2I8QFCCeOs/SvfszqVL7D9YyPrwcmnsP3QxQVMSAe8/722u/MeX7z+d0FFdSPvvPw3PTp03OPA/7NDZTIZ28D/iEsZqjXbwPzAbNiOXa/E/d92qAPuQ8T/ZeIxzmbHxP5ysEKjsu/E/uD/CItHl8T+onwwMC+3xP/Jd+X4j7fE/oK+Dc0rx8T92SqmoSgryPxSzfxZiJfI/z+w8YtNJ8j9ksIJ40pHyP6DwviL//PI/6qEG/rkG9D+q8VZIO3H0P2iVQdHGHPU/DJimkx5h9T+SkfAvUrL1P3H7ysQ0IPY/v+ttYb5a9j/4jmh4kX32PyemdGzlv/Y/QzAfoA7w9j9UKlATWlb3P9dqDWhfifc/rpWthGCO9z+iMf6D0o/3PzwTG8CAuvc/pKofU0HA9z/8x1aYTcP3PyTJwTKax/c/+g3MKC3K9z9iIpnYk/T3P9+a3HfI+fc/46turlsj+D+hc8hZv4z4P5fTwCXXlPg/Nn2UxwKf+D9QIzhTN9H4P06HCnZ24Pg/I2l0h6fs+D8olD+VgvT4P3D9m0iSCvk/+Og+ULQf+T9cyUz/H175P7wHyYt8Zfk/lo0Sk2x6+T9ofCwbv3v5P/MlOejQ7fk/+tPRoW0H+j8bAuoa20b6P/zGGc/phfo/w69Dyfed+j8ZK84e/p76P/W6rRvIofo/kws4C93O+j9wxE6MeQn7P+/NKlI08fs/lAjIfAD2+z/9eNbmCvz7P/ePeRl7Lvw/9NaTX+lG/D+KyUmVL2P8P0tYhZAknfw/aA9o3Gqi/D+WQlB95tX8P5NUcmm9//w/xs3lITF1/T/cD2IZRpv9PzaXn/uFnf0/rRr5f1ik/T+PMoheLK79P6MrxRYfzv0/+3ixFP/T/T8KKm6Sftr9P7M39wR15v0/fylR6i/q/T/ivjz0phD+P6L7ZaF9Of4/Er31Xoa1/j86ZSU9IsX+P9audb7I7f4/c20WZqj9/j+prS6Eev/+PwB2EFoLFv8/9nTaEVw7/z9+xTqs7lv/P2oGPGAdHgBABIASVYApAEDXSZDNCDkAQPPEViDXSABAhzG4/6NOAEA3W7SjlFEAQE0w7LbsXQBAlxxac/p7AEC6HZbIL4EAQAZEiXrrgwBA//EuWQmPAED+2zJjRZAAQMya00E0lABA9xxhop+ZAEDxi0zPPpoAQMycC5tvnQBAcimRiDOeAEAE+rr88awAQFRVCtxmrwBAYDxT0Q+5AEDmLEhapb8AQBned+nm2QBApUL+o879AEA8s7FeCAcBQEpUL6pGGwFAbvTnPiYcAUDSaZNyHC8BQJ5MM5VnUwFAaLnZKmdbAUDQPsJ5nH4BQD5CqipTggFA4NsrMMyJAUCt5l+mIqYBQFnsgRGvtgFA/gwayxa5AUDb7N0OUsEBQEbmjt03ywFAtpmYSaPnAUB8C6MVmvEBQHXQxoFWFQJA23RJkyw2AkCVsPpgNj8CQEBHsC42TQJABgxUBrRRAkATwN9Ax18CQDQD0KCmaAJAJEBC/15yAkAiMvtewXMCQMAmnyT1dgJAFqk7fyF9AkBdxuXI3YACQHTyHUkMjAJA1qMYm3GRAkDtgjjANagCQMvWayzbqwJAJWw2E/WsAkANl/d3ldQCQJQHgo0E4AJA7u5R/6DtAkBC2gbuMgQDQHfMlDR5DQNAzxME36ceA0D7QFZ5uyoDQMpheVR/MQNAnPii0hNNA0Ca0Sx0qFcDQDgFamlrcwNAYeJZTzN9A0CfGWZ3Lp8DQCSe+KtS1ANA6R7V2ezrA0C0nrjae+8DQESnj5LjEgRAIthms2ElBEAdcnej/i8EQHIAXFsjUQRAsHPa+W1mBEDQi08MY7oEQJH/6lWY0wRAmQw/xw3VBEBcoq8XcgUFQKfiZg0MEAVAKCbFt5I6BUCauxdlyUcFQMpLKBi7WwVAzOfr0ylwBUAs+204Ko0FQPPcfOvwmgVAXgFmjfOfBUDQVIk+VqMFQMqLKV7BqAVAICl5hkC+BUDlKmWvPcgFQBiQd8rDyQVA++B0Lr/aBUB8U/x3c/AFQCgjSUVm/QVADbCkgpMFBkCKK1VKOwsGQHq07VrkFAZAzDm+vDwZBkBdz8G9ax0GQGhDJYr6JQZA5WePNMtVBkBTrt7IPXcGQP4s2IbBigZA1RK2dVORBkAGgOCuQ6cGQIKsQB53swZAxISvFLq9BkDz91O6l+8GQGeMHdWQ8wZAske5DbgNB0BnQQlGmSoHQAMHTqSgcQdAKaWdIyJ3B0AoD/4OJ40HQMR6SAHrmgdAC5PuoDvWB0CUYhnALdcHQLpwMb6iCghAdZ2uSOs1CECPtYUO/jkIQFxkNfWvRQhADp4looxdCEAev7ye4mIIQEg+LIvvuwhAzeUFGizBCEA6ZxFrotkIQGjgi2c03QhAGC8vFoEPCUAA8Xqh/RwJQLnkee5MHwlAXhLRY38iCUC+RvKSw0YJQOyHbmvUaQlAYj1B7BN4CUBowccYa4IJQJf0C6lluQlAjn7zoda+CUDTZWPA8xEKQBf6yOT9EgpAQGOgyFBlCkDh5XdJvHAKQGxaYNo1iApA/O+CMUPZCkAUMy2MEe0KQDM7c5RNawtAH4KXDfHvC0Bzb7ZORfQLQNhpcfEoEwxARAvcAnk+DEALKC/SsHQMQGTbHhE8sQxAreNzB9biDEBFGGxePegMQNJMRRaSQg1A2QZ9e7RIDUAFymkkeWcNQOoqsWY+hA1AyDRjTyCgDUBiV/OM06INQBDUQiIpyg1AEmMwO4zyDUAmDjeGIAQOQObNDvIrNA5ARJrxwvZZDkDVkGTVSbMOQGSOoauIxA5ATLVeJ/FCD0DlWCFMMacPQJW4UCzxqw9Ac4cJiqrvD0CinbQGtb0QQCqMFb0iyxBAnlyRMLaiEUCda6/QvA0SQOyQBAwXORJAfY6LAziMEkDOrSWkKq4SQMRvGazCuxJA",
          "dtype": "f8"
         },
         "xaxis": "x",
         "y": {
          "bdata": "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",
          "dtype": "f8"
         },
         "yaxis": "y"
        }
       ],
       "layout": {
        "legend": {
         "tracegroupgap": 0
        },
        "margin": {
         "t": 60
        },
        "template": {
         "data": {
          "bar": [
           {
            "error_x": {
             "color": "#2a3f5f"
            },
            "error_y": {
             "color": "#2a3f5f"
            },
            "marker": {
             "line": {
              "color": "#E5ECF6",
              "width": 0.5
             },
             "pattern": {
              "fillmode": "overlay",
              "size": 10,
              "solidity": 0.2
             }
            },
            "type": "bar"
           }
          ],
          "barpolar": [
           {
            "marker": {
             "line": {
              "color": "#E5ECF6",
              "width": 0.5
             },
             "pattern": {
              "fillmode": "overlay",
              "size": 10,
              "solidity": 0.2
             }
            },
            "type": "barpolar"
           }
          ],
          "carpet": [
           {
            "aaxis": {
             "endlinecolor": "#2a3f5f",
             "gridcolor": "white",
             "linecolor": "white",
             "minorgridcolor": "white",
             "startlinecolor": "#2a3f5f"
            },
            "baxis": {
             "endlinecolor": "#2a3f5f",
             "gridcolor": "white",
             "linecolor": "white",
             "minorgridcolor": "white",
             "startlinecolor": "#2a3f5f"
            },
            "type": "carpet"
           }
          ],
          "choropleth": [
           {
            "colorbar": {
             "outlinewidth": 0,
             "ticks": ""
            },
            "type": "choropleth"
           }
          ],
          "contour": [
           {
            "colorbar": {
             "outlinewidth": 0,
             "ticks": ""
            },
            "colorscale": [
             [
              0,
              "#0d0887"
             ],
             [
              0.1111111111111111,
              "#46039f"
             ],
             [
              0.2222222222222222,
              "#7201a8"
             ],
             [
              0.3333333333333333,
              "#9c179e"
             ],
             [
              0.4444444444444444,
              "#bd3786"
             ],
             [
              0.5555555555555556,
              "#d8576b"
             ],
             [
              0.6666666666666666,
              "#ed7953"
             ],
             [
              0.7777777777777778,
              "#fb9f3a"
             ],
             [
              0.8888888888888888,
              "#fdca26"
             ],
             [
              1,
              "#f0f921"
             ]
            ],
            "type": "contour"
           }
          ],
          "contourcarpet": [
           {
            "colorbar": {
             "outlinewidth": 0,
             "ticks": ""
            },
            "type": "contourcarpet"
           }
          ],
          "heatmap": [
           {
            "colorbar": {
             "outlinewidth": 0,
             "ticks": ""
            },
            "colorscale": [
             [
              0,
              "#0d0887"
             ],
             [
              0.1111111111111111,
              "#46039f"
             ],
             [
              0.2222222222222222,
              "#7201a8"
             ],
             [
              0.3333333333333333,
              "#9c179e"
             ],
             [
              0.4444444444444444,
              "#bd3786"
             ],
             [
              0.5555555555555556,
              "#d8576b"
             ],
             [
              0.6666666666666666,
              "#ed7953"
             ],
             [
              0.7777777777777778,
              "#fb9f3a"
             ],
             [
              0.8888888888888888,
              "#fdca26"
             ],
             [
              1,
              "#f0f921"
             ]
            ],
            "type": "heatmap"
           }
          ],
          "histogram": [
           {
            "marker": {
             "pattern": {
              "fillmode": "overlay",
              "size": 10,
              "solidity": 0.2
             }
            },
            "type": "histogram"
           }
          ],
          "histogram2d": [
           {
            "colorbar": {
             "outlinewidth": 0,
             "ticks": ""
            },
            "colorscale": [
             [
              0,
              "#0d0887"
             ],
             [
              0.1111111111111111,
              "#46039f"
             ],
             [
              0.2222222222222222,
              "#7201a8"
             ],
             [
              0.3333333333333333,
              "#9c179e"
             ],
             [
              0.4444444444444444,
              "#bd3786"
             ],
             [
              0.5555555555555556,
              "#d8576b"
             ],
             [
              0.6666666666666666,
              "#ed7953"
             ],
             [
              0.7777777777777778,
              "#fb9f3a"
             ],
             [
              0.8888888888888888,
              "#fdca26"
             ],
             [
              1,
              "#f0f921"
             ]
            ],
            "type": "histogram2d"
           }
          ],
          "histogram2dcontour": [
           {
            "colorbar": {
             "outlinewidth": 0,
             "ticks": ""
            },
            "colorscale": [
             [
              0,
              "#0d0887"
             ],
             [
              0.1111111111111111,
              "#46039f"
             ],
             [
              0.2222222222222222,
              "#7201a8"
             ],
             [
              0.3333333333333333,
              "#9c179e"
             ],
             [
              0.4444444444444444,
              "#bd3786"
             ],
             [
              0.5555555555555556,
              "#d8576b"
             ],
             [
              0.6666666666666666,
              "#ed7953"
             ],
             [
              0.7777777777777778,
              "#fb9f3a"
             ],
             [
              0.8888888888888888,
              "#fdca26"
             ],
             [
              1,
              "#f0f921"
             ]
            ],
            "type": "histogram2dcontour"
           }
          ],
          "mesh3d": [
           {
            "colorbar": {
             "outlinewidth": 0,
             "ticks": ""
            },
            "type": "mesh3d"
           }
          ],
          "parcoords": [
           {
            "line": {
             "colorbar": {
              "outlinewidth": 0,
              "ticks": ""
             }
            },
            "type": "parcoords"
           }
          ],
          "pie": [
           {
            "automargin": true,
            "type": "pie"
           }
          ],
          "scatter": [
           {
            "fillpattern": {
             "fillmode": "overlay",
             "size": 10,
             "solidity": 0.2
            },
            "type": "scatter"
           }
          ],
          "scatter3d": [
           {
            "line": {
             "colorbar": {
              "outlinewidth": 0,
              "ticks": ""
             }
            },
            "marker": {
             "colorbar": {
              "outlinewidth": 0,
              "ticks": ""
             }
            },
            "type": "scatter3d"
           }
          ],
          "scattercarpet": [
           {
            "marker": {
             "colorbar": {
              "outlinewidth": 0,
              "ticks": ""
             }
            },
            "type": "scattercarpet"
           }
          ],
          "scattergeo": [
           {
            "marker": {
             "colorbar": {
              "outlinewidth": 0,
              "ticks": ""
             }
            },
            "type": "scattergeo"
           }
          ],
          "scattergl": [
           {
            "marker": {
             "colorbar": {
              "outlinewidth": 0,
              "ticks": ""
             }
            },
            "type": "scattergl"
           }
          ],
          "scattermap": [
           {
            "marker": {
             "colorbar": {
              "outlinewidth": 0,
              "ticks": ""
             }
            },
            "type": "scattermap"
           }
          ],
          "scattermapbox": [
           {
            "marker": {
             "colorbar": {
              "outlinewidth": 0,
              "ticks": ""
             }
            },
            "type": "scattermapbox"
           }
          ],
          "scatterpolar": [
           {
            "marker": {
             "colorbar": {
              "outlinewidth": 0,
              "ticks": ""
             }
            },
            "type": "scatterpolar"
           }
          ],
          "scatterpolargl": [
           {
            "marker": {
             "colorbar": {
              "outlinewidth": 0,
              "ticks": ""
             }
            },
            "type": "scatterpolargl"
           }
          ],
          "scatterternary": [
           {
            "marker": {
             "colorbar": {
              "outlinewidth": 0,
              "ticks": ""
             }
            },
            "type": "scatterternary"
           }
          ],
          "surface": [
           {
            "colorbar": {
             "outlinewidth": 0,
             "ticks": ""
            },
            "colorscale": [
             [
              0,
              "#0d0887"
             ],
             [
              0.1111111111111111,
              "#46039f"
             ],
             [
              0.2222222222222222,
              "#7201a8"
             ],
             [
              0.3333333333333333,
              "#9c179e"
             ],
             [
              0.4444444444444444,
              "#bd3786"
             ],
             [
              0.5555555555555556,
              "#d8576b"
             ],
             [
              0.6666666666666666,
              "#ed7953"
             ],
             [
              0.7777777777777778,
              "#fb9f3a"
             ],
             [
              0.8888888888888888,
              "#fdca26"
             ],
             [
              1,
              "#f0f921"
             ]
            ],
            "type": "surface"
           }
          ],
          "table": [
           {
            "cells": {
             "fill": {
              "color": "#EBF0F8"
             },
             "line": {
              "color": "white"
             }
            },
            "header": {
             "fill": {
              "color": "#C8D4E3"
             },
             "line": {
              "color": "white"
             }
            },
            "type": "table"
           }
          ]
         },
         "layout": {
          "annotationdefaults": {
           "arrowcolor": "#2a3f5f",
           "arrowhead": 0,
           "arrowwidth": 1
          },
          "autotypenumbers": "strict",
          "coloraxis": {
           "colorbar": {
            "outlinewidth": 0,
            "ticks": ""
           }
          },
          "colorscale": {
           "diverging": [
            [
             0,
             "#8e0152"
            ],
            [
             0.1,
             "#c51b7d"
            ],
            [
             0.2,
             "#de77ae"
            ],
            [
             0.3,
             "#f1b6da"
            ],
            [
             0.4,
             "#fde0ef"
            ],
            [
             0.5,
             "#f7f7f7"
            ],
            [
             0.6,
             "#e6f5d0"
            ],
            [
             0.7,
             "#b8e186"
            ],
            [
             0.8,
             "#7fbc41"
            ],
            [
             0.9,
             "#4d9221"
            ],
            [
             1,
             "#276419"
            ]
           ],
           "sequential": [
            [
             0,
             "#0d0887"
            ],
            [
             0.1111111111111111,
             "#46039f"
            ],
            [
             0.2222222222222222,
             "#7201a8"
            ],
            [
             0.3333333333333333,
             "#9c179e"
            ],
            [
             0.4444444444444444,
             "#bd3786"
            ],
            [
             0.5555555555555556,
             "#d8576b"
            ],
            [
             0.6666666666666666,
             "#ed7953"
            ],
            [
             0.7777777777777778,
             "#fb9f3a"
            ],
            [
             0.8888888888888888,
             "#fdca26"
            ],
            [
             1,
             "#f0f921"
            ]
           ],
           "sequentialminus": [
            [
             0,
             "#0d0887"
            ],
            [
             0.1111111111111111,
             "#46039f"
            ],
            [
             0.2222222222222222,
             "#7201a8"
            ],
            [
             0.3333333333333333,
             "#9c179e"
            ],
            [
             0.4444444444444444,
             "#bd3786"
            ],
            [
             0.5555555555555556,
             "#d8576b"
            ],
            [
             0.6666666666666666,
             "#ed7953"
            ],
            [
             0.7777777777777778,
             "#fb9f3a"
            ],
            [
             0.8888888888888888,
             "#fdca26"
            ],
            [
             1,
             "#f0f921"
            ]
           ]
          },
          "colorway": [
           "#636efa",
           "#EF553B",
           "#00cc96",
           "#ab63fa",
           "#FFA15A",
           "#19d3f3",
           "#FF6692",
           "#B6E880",
           "#FF97FF",
           "#FECB52"
          ],
          "font": {
           "color": "#2a3f5f"
          },
          "geo": {
           "bgcolor": "white",
           "lakecolor": "white",
           "landcolor": "#E5ECF6",
           "showlakes": true,
           "showland": true,
           "subunitcolor": "white"
          },
          "hoverlabel": {
           "align": "left"
          },
          "hovermode": "closest",
          "mapbox": {
           "style": "light"
          },
          "paper_bgcolor": "white",
          "plot_bgcolor": "#E5ECF6",
          "polar": {
           "angularaxis": {
            "gridcolor": "white",
            "linecolor": "white",
            "ticks": ""
           },
           "bgcolor": "#E5ECF6",
           "radialaxis": {
            "gridcolor": "white",
            "linecolor": "white",
            "ticks": ""
           }
          },
          "scene": {
           "xaxis": {
            "backgroundcolor": "#E5ECF6",
            "gridcolor": "white",
            "gridwidth": 2,
            "linecolor": "white",
            "showbackground": true,
            "ticks": "",
            "zerolinecolor": "white"
           },
           "yaxis": {
            "backgroundcolor": "#E5ECF6",
            "gridcolor": "white",
            "gridwidth": 2,
            "linecolor": "white",
            "showbackground": true,
            "ticks": "",
            "zerolinecolor": "white"
           },
           "zaxis": {
            "backgroundcolor": "#E5ECF6",
            "gridcolor": "white",
            "gridwidth": 2,
            "linecolor": "white",
            "showbackground": true,
            "ticks": "",
            "zerolinecolor": "white"
           }
          },
          "shapedefaults": {
           "line": {
            "color": "#2a3f5f"
           }
          },
          "ternary": {
           "aaxis": {
            "gridcolor": "white",
            "linecolor": "white",
            "ticks": ""
           },
           "baxis": {
            "gridcolor": "white",
            "linecolor": "white",
            "ticks": ""
           },
           "bgcolor": "#E5ECF6",
           "caxis": {
            "gridcolor": "white",
            "linecolor": "white",
            "ticks": ""
           }
          },
          "title": {
           "x": 0.05
          },
          "xaxis": {
           "automargin": true,
           "gridcolor": "white",
           "linecolor": "white",
           "ticks": "",
           "title": {
            "standoff": 15
           },
           "zerolinecolor": "white",
           "zerolinewidth": 2
          },
          "yaxis": {
           "automargin": true,
           "gridcolor": "white",
           "linecolor": "white",
           "ticks": "",
           "title": {
            "standoff": 15
           },
           "zerolinecolor": "white",
           "zerolinewidth": 2
          }
         }
        },
        "xaxis": {
         "anchor": "y",
         "domain": [
          0,
          1
         ],
         "title": {
          "text": "x"
         }
        },
        "yaxis": {
         "anchor": "x",
         "domain": [
          0,
          1
         ],
         "title": {
          "text": "y"
         }
        }
       }
      }
     },
     "metadata": {},
     "output_type": "display_data"
    }
   ],
   "source": [
    "import plotly.express as px\n",
    "import pandas as pd\n",
    "\n",
    "df_test = pd.read_csv(\"unlabelled_data copia.csv\", \n",
    "                      names=[\"x\", \"y\"])\n",
    "\n",
    "fig_test = px.scatter(df_test, x=\"x\", y=\"y\", trendline=\"ols\", trendline_color_override=\"red\")\n",
    "fig_test.show()"
   ]
  },
  {
   "cell_type": "code",
   "execution_count": null,
   "id": "9ebea99e",
   "metadata": {},
   "outputs": [],
   "source": []
  }
 ],
 "metadata": {
  "kernelspec": {
   "display_name": ".venv",
   "language": "python",
   "name": "python3"
  },
  "language_info": {
   "codemirror_mode": {
    "name": "ipython",
    "version": 3
   },
   "file_extension": ".py",
   "mimetype": "text/x-python",
   "name": "python",
   "nbconvert_exporter": "python",
   "pygments_lexer": "ipython3",
   "version": "3.11.2"
  }
 },
 "nbformat": 4,
 "nbformat_minor": 5
}
