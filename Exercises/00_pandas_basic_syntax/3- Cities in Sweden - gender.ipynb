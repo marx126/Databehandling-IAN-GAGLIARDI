{
 "cells": [
  {
   "cell_type": "code",
   "execution_count": 1,
   "id": "7a03f5ca",
   "metadata": {},
   "outputs": [],
   "source": [
    "# Cities in Sweden - gender"
   ]
  },
  {
   "cell_type": "code",
   "execution_count": 2,
   "id": "6ceb7115",
   "metadata": {},
   "outputs": [],
   "source": [
    "import pandas as pd\n",
    "import matplotlib.pyplot as plt"
   ]
  },
  {
   "cell_type": "code",
   "execution_count": 11,
   "id": "ff7e8173",
   "metadata": {},
   "outputs": [],
   "source": [
    "df = pd.read_excel(\"data/komtopp50_2020.xlsx\")\n",
    "df = df.iloc[6:]\n",
    "df.reset_index(drop=True, inplace=True)"
   ]
  },
  {
   "cell_type": "code",
   "execution_count": 16,
   "id": "cdd07d45",
   "metadata": {},
   "outputs": [],
   "source": [
    "df.rename(columns={\"Unnamed: 0\": \"Rang 2020\",\n",
    "                   \"Unnamed: 1\": \"Rang 2019\",\n",
    "                   \"Unnamed: 2\": \"Kommun\",\n",
    "                   \"Unnamed: 3\": \"Folkmängd 2020\",\n",
    "                   \"Unnamed: 4\": \"Folkmängd 2019\",\n",
    "                   \"Unnamed: 5\": \"Förändring\",}, inplace=True)"
   ]
  },
  {
   "cell_type": "code",
   "execution_count": null,
   "id": "4cb98232",
   "metadata": {},
   "outputs": [],
   "source": [
    "# Cant complete exercise, data needed is missing"
   ]
  }
 ],
 "metadata": {
  "kernelspec": {
   "display_name": ".venv",
   "language": "python",
   "name": "python3"
  },
  "language_info": {
   "codemirror_mode": {
    "name": "ipython",
    "version": 3
   },
   "file_extension": ".py",
   "mimetype": "text/x-python",
   "name": "python",
   "nbconvert_exporter": "python",
   "pygments_lexer": "ipython3",
   "version": "3.11.2"
  }
 },
 "nbformat": 4,
 "nbformat_minor": 5
}
