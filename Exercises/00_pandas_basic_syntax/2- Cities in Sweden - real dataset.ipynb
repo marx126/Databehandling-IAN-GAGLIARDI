{
 "cells": [
  {
   "cell_type": "code",
   "execution_count": 41,
   "id": "9686196d-a70a-465f-9e74-231c644007cd",
   "metadata": {},
   "outputs": [],
   "source": [
    "# Cities in Sweden - real dataset"
   ]
  },
  {
   "cell_type": "code",
   "execution_count": 42,
   "id": "4cf41fb3-e299-4c41-b3eb-5681c48b8606",
   "metadata": {},
   "outputs": [],
   "source": [
    "import pandas as pd\n",
    "import matplotlib.pyplot as plt"
   ]
  },
  {
   "cell_type": "code",
   "execution_count": 43,
   "id": "1abbf36a-76ff-424d-9947-f712d995d8d1",
   "metadata": {},
   "outputs": [],
   "source": [
    "df = pd.read_excel(\"data/komtopp50_2020.xlsx\")"
   ]
  },
  {
   "cell_type": "code",
   "execution_count": 44,
   "id": "132684bf",
   "metadata": {},
   "outputs": [],
   "source": [
    "df = df.iloc[6:]\n",
    "df.reset_index(drop=True, inplace=True)"
   ]
  },
  {
   "cell_type": "code",
   "execution_count": 45,
   "id": "f4e8f47d",
   "metadata": {},
   "outputs": [
    {
     "data": {
      "text/html": [
       "<div>\n",
       "<style scoped>\n",
       "    .dataframe tbody tr th:only-of-type {\n",
       "        vertical-align: middle;\n",
       "    }\n",
       "\n",
       "    .dataframe tbody tr th {\n",
       "        vertical-align: top;\n",
       "    }\n",
       "\n",
       "    .dataframe thead th {\n",
       "        text-align: right;\n",
       "    }\n",
       "</style>\n",
       "<table border=\"1\" class=\"dataframe\">\n",
       "  <thead>\n",
       "    <tr style=\"text-align: right;\">\n",
       "      <th></th>\n",
       "      <th>Unnamed: 0</th>\n",
       "      <th>Unnamed: 1</th>\n",
       "      <th>Unnamed: 2</th>\n",
       "      <th>Unnamed: 3</th>\n",
       "      <th>Unnamed: 4</th>\n",
       "      <th>Unnamed: 5</th>\n",
       "    </tr>\n",
       "  </thead>\n",
       "  <tbody>\n",
       "    <tr>\n",
       "      <th>0</th>\n",
       "      <td>1</td>\n",
       "      <td>1.0</td>\n",
       "      <td>Stockholm</td>\n",
       "      <td>975551</td>\n",
       "      <td>974073.0</td>\n",
       "      <td>1478</td>\n",
       "    </tr>\n",
       "    <tr>\n",
       "      <th>1</th>\n",
       "      <td>2</td>\n",
       "      <td>2.0</td>\n",
       "      <td>Göteborg</td>\n",
       "      <td>583056</td>\n",
       "      <td>579281.0</td>\n",
       "      <td>3775</td>\n",
       "    </tr>\n",
       "    <tr>\n",
       "      <th>2</th>\n",
       "      <td>3</td>\n",
       "      <td>3.0</td>\n",
       "      <td>Malmö</td>\n",
       "      <td>347949</td>\n",
       "      <td>344166.0</td>\n",
       "      <td>3783</td>\n",
       "    </tr>\n",
       "    <tr>\n",
       "      <th>3</th>\n",
       "      <td>4</td>\n",
       "      <td>4.0</td>\n",
       "      <td>Uppsala</td>\n",
       "      <td>233839</td>\n",
       "      <td>230767.0</td>\n",
       "      <td>3072</td>\n",
       "    </tr>\n",
       "    <tr>\n",
       "      <th>4</th>\n",
       "      <td>5</td>\n",
       "      <td>5.0</td>\n",
       "      <td>Linköping</td>\n",
       "      <td>164616</td>\n",
       "      <td>163051.0</td>\n",
       "      <td>1565</td>\n",
       "    </tr>\n",
       "  </tbody>\n",
       "</table>\n",
       "</div>"
      ],
      "text/plain": [
       "  Unnamed: 0  Unnamed: 1 Unnamed: 2 Unnamed: 3  Unnamed: 4 Unnamed: 5\n",
       "0          1         1.0  Stockholm     975551    974073.0       1478\n",
       "1          2         2.0   Göteborg     583056    579281.0       3775\n",
       "2          3         3.0      Malmö     347949    344166.0       3783\n",
       "3          4         4.0    Uppsala     233839    230767.0       3072\n",
       "4          5         5.0  Linköping     164616    163051.0       1565"
      ]
     },
     "execution_count": 45,
     "metadata": {},
     "output_type": "execute_result"
    }
   ],
   "source": [
    "df.head()"
   ]
  },
  {
   "cell_type": "code",
   "execution_count": 46,
   "id": "860b798e",
   "metadata": {},
   "outputs": [
    {
     "name": "stdout",
     "output_type": "stream",
     "text": [
      "<class 'pandas.core.frame.DataFrame'>\n",
      "RangeIndex: 50 entries, 0 to 49\n",
      "Data columns (total 6 columns):\n",
      " #   Column      Non-Null Count  Dtype  \n",
      "---  ------      --------------  -----  \n",
      " 0   Unnamed: 0  50 non-null     object \n",
      " 1   Unnamed: 1  50 non-null     float64\n",
      " 2   Unnamed: 2  50 non-null     object \n",
      " 3   Unnamed: 3  50 non-null     object \n",
      " 4   Unnamed: 4  50 non-null     float64\n",
      " 5   Unnamed: 5  50 non-null     object \n",
      "dtypes: float64(2), object(4)\n",
      "memory usage: 2.5+ KB\n"
     ]
    }
   ],
   "source": [
    "df.info()"
   ]
  },
  {
   "cell_type": "code",
   "execution_count": 47,
   "id": "f4128956",
   "metadata": {},
   "outputs": [
    {
     "data": {
      "text/html": [
       "<div>\n",
       "<style scoped>\n",
       "    .dataframe tbody tr th:only-of-type {\n",
       "        vertical-align: middle;\n",
       "    }\n",
       "\n",
       "    .dataframe tbody tr th {\n",
       "        vertical-align: top;\n",
       "    }\n",
       "\n",
       "    .dataframe thead th {\n",
       "        text-align: right;\n",
       "    }\n",
       "</style>\n",
       "<table border=\"1\" class=\"dataframe\">\n",
       "  <thead>\n",
       "    <tr style=\"text-align: right;\">\n",
       "      <th></th>\n",
       "      <th>Unnamed: 1</th>\n",
       "      <th>Unnamed: 4</th>\n",
       "    </tr>\n",
       "  </thead>\n",
       "  <tbody>\n",
       "    <tr>\n",
       "      <th>count</th>\n",
       "      <td>50.00000</td>\n",
       "      <td>50.000000</td>\n",
       "    </tr>\n",
       "    <tr>\n",
       "      <th>mean</th>\n",
       "      <td>25.50000</td>\n",
       "      <td>123740.320000</td>\n",
       "    </tr>\n",
       "    <tr>\n",
       "      <th>std</th>\n",
       "      <td>14.57738</td>\n",
       "      <td>149527.168738</td>\n",
       "    </tr>\n",
       "    <tr>\n",
       "      <th>min</th>\n",
       "      <td>1.00000</td>\n",
       "      <td>48333.000000</td>\n",
       "    </tr>\n",
       "    <tr>\n",
       "      <th>25%</th>\n",
       "      <td>13.25000</td>\n",
       "      <td>62911.250000</td>\n",
       "    </tr>\n",
       "    <tr>\n",
       "      <th>50%</th>\n",
       "      <td>25.50000</td>\n",
       "      <td>85071.000000</td>\n",
       "    </tr>\n",
       "    <tr>\n",
       "      <th>75%</th>\n",
       "      <td>37.75000</td>\n",
       "      <td>113096.250000</td>\n",
       "    </tr>\n",
       "    <tr>\n",
       "      <th>max</th>\n",
       "      <td>50.00000</td>\n",
       "      <td>974073.000000</td>\n",
       "    </tr>\n",
       "  </tbody>\n",
       "</table>\n",
       "</div>"
      ],
      "text/plain": [
       "       Unnamed: 1     Unnamed: 4\n",
       "count    50.00000      50.000000\n",
       "mean     25.50000  123740.320000\n",
       "std      14.57738  149527.168738\n",
       "min       1.00000   48333.000000\n",
       "25%      13.25000   62911.250000\n",
       "50%      25.50000   85071.000000\n",
       "75%      37.75000  113096.250000\n",
       "max      50.00000  974073.000000"
      ]
     },
     "execution_count": 47,
     "metadata": {},
     "output_type": "execute_result"
    }
   ],
   "source": [
    "df.describe()"
   ]
  },
  {
   "cell_type": "code",
   "execution_count": 48,
   "id": "2267b7e2",
   "metadata": {},
   "outputs": [],
   "source": [
    "df.rename(columns={\"Unnamed: 0\": \"Rang 2020\",\n",
    "                   \"Unnamed: 1\": \"Rang 2019\",\n",
    "                   \"Unnamed: 2\": \"Kommun\",\n",
    "                   \"Unnamed: 3\": \"Folkmängd 2020\",\n",
    "                   \"Unnamed: 4\": \"Folkmängd 2019\",\n",
    "                   \"Unnamed: 5\": \"Förändring\",}, inplace=True)"
   ]
  },
  {
   "cell_type": "code",
   "execution_count": 49,
   "id": "fb08eca0",
   "metadata": {},
   "outputs": [],
   "source": [
    "df.sort_values(by=\"Folkmängd 2019\", ascending=False, inplace=True)"
   ]
  },
  {
   "cell_type": "code",
   "execution_count": 50,
   "id": "93c2269f",
   "metadata": {},
   "outputs": [],
   "source": [
    "df[\"Folkmängd 2020\"] = df[\"Folkmängd 2020\"].astype(\"float64\")"
   ]
  },
  {
   "cell_type": "code",
   "execution_count": 51,
   "id": "6bf36091",
   "metadata": {},
   "outputs": [],
   "source": [
    "population_2019 = df[\"Folkmängd 2019\"].sum()"
   ]
  },
  {
   "cell_type": "code",
   "execution_count": 52,
   "id": "bdadc97e",
   "metadata": {},
   "outputs": [],
   "source": [
    "population_2020 = df[\"Folkmängd 2020\"].sum()"
   ]
  },
  {
   "cell_type": "code",
   "execution_count": 53,
   "id": "f38895a0",
   "metadata": {},
   "outputs": [
    {
     "name": "stdout",
     "output_type": "stream",
     "text": [
      "Population in 2019: 6187016.0\n",
      "Population in 2020: 6227447.0\n"
     ]
    }
   ],
   "source": [
    "print(f\"Population in 2019: {population_2019}\")\n",
    "print(f\"Population in 2020: {population_2020}\")"
   ]
  },
  {
   "cell_type": "code",
   "execution_count": 54,
   "id": "fb4b1547",
   "metadata": {},
   "outputs": [],
   "source": [
    "largest_cities_2020 = df.nlargest(5, \"Folkmängd 2020\")\n",
    "smallest_cities_2020 = df.nsmallest(5, \"Folkmängd 2020\")"
   ]
  },
  {
   "cell_type": "code",
   "execution_count": 55,
   "id": "33af6bb8",
   "metadata": {},
   "outputs": [
    {
     "data": {
      "image/png": "[encoded data removed]",
      "text/plain": [
       "<Figure size 1200x500 with 2 Axes>"
      ]
     },
     "metadata": {},
     "output_type": "display_data"
    }
   ],
   "source": [
    "fig, axes = plt.subplots(1, 2, figsize=(12, 5))\n",
    "\n",
    "axes[0].bar(largest_cities_2020[\"Kommun\"], largest_cities_2020[\"Folkmängd 2020\"], color=\"blue\")\n",
    "axes[0].set_title(\"5 largest cities (2020)\")\n",
    "axes[0].set_xlabel(\"City\")\n",
    "axes[0].set_ylabel(\"Population\")\n",
    "\n",
    "axes[1].bar(smallest_cities_2020[\"Kommun\"], smallest_cities_2020[\"Folkmängd 2020\"], color=\"orange\")\n",
    "axes[1].set_title(\"5 smallest cities (2020)\")\n",
    "axes[1].set_xlabel(\"City\")\n",
    "\n",
    "plt.show()"
   ]
  }
 ],
 "metadata": {
  "kernelspec": {
   "display_name": ".venv",
   "language": "python",
   "name": "python3"
  },
  "language_info": {
   "codemirror_mode": {
    "name": "ipython",
    "version": 3
   },
   "file_extension": ".py",
   "mimetype": "text/x-python",
   "name": "python",
   "nbconvert_exporter": "python",
   "pygments_lexer": "ipython3",
   "version": "3.11.2"
  }
 },
 "nbformat": 4,
 "nbformat_minor": 5
}
